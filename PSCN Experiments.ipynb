{
 "cells": [
  {
   "cell_type": "code",
   "execution_count": 1,
   "metadata": {},
   "outputs": [
    {
     "name": "stderr",
     "output_type": "stream",
     "text": [
      "Using TensorFlow backend.\n"
     ]
    }
   ],
   "source": [
    "import numpy as np\n",
    "import data\n",
    "import util\n",
    "import networkx as nx\n",
    "from keras.utils import np_utils\n",
    "from sklearn.model_selection import train_test_split\n",
    "from receptive_field import ReceptiveField\n",
    "from pscn import PSCN"
   ]
  },
  {
   "cell_type": "code",
   "execution_count": 2,
   "metadata": {},
   "outputs": [],
   "source": [
    "test_size = 0.2"
   ]
  },
  {
   "cell_type": "markdown",
   "metadata": {},
   "source": [
    "## MUTAG Dataset"
   ]
  },
  {
   "cell_type": "code",
   "execution_count": 3,
   "metadata": {},
   "outputs": [
    {
     "name": "stdout",
     "output_type": "stream",
     "text": [
      "[Errno 2] No such file or directory: './data/MUTAG/MUTAG_node_attributes.txt'\n"
     ]
    }
   ],
   "source": [
    "dataset = data.load_compact_data('MUTAG')\n",
    "X, y = zip(*dataset)"
   ]
  },
  {
   "cell_type": "markdown",
   "metadata": {},
   "source": [
    "#### Set $w$ to be average number of nodes in input graphs"
   ]
  },
  {
   "cell_type": "code",
   "execution_count": 4,
   "metadata": {},
   "outputs": [],
   "source": [
    "w = util.compute_average_node_count(X)\n",
    "num_classes = 2\n",
    "num_attr = 1"
   ]
  },
  {
   "cell_type": "markdown",
   "metadata": {},
   "source": [
    "#### Initialize model"
   ]
  },
  {
   "cell_type": "code",
   "execution_count": 5,
   "metadata": {},
   "outputs": [],
   "source": [
    "pscn = PSCN(w, num_attr=num_attr, num_classes=num_classes, attribute_name='node_label', epochs=10) "
   ]
  },
  {
   "cell_type": "markdown",
   "metadata": {},
   "source": [
    "#### Train-Test Split"
   ]
  },
  {
   "cell_type": "code",
   "execution_count": 6,
   "metadata": {},
   "outputs": [],
   "source": [
    "X_train, X_test, y_train, y_test = train_test_split(X, y, test_size=test_size)"
   ]
  },
  {
   "cell_type": "markdown",
   "metadata": {},
   "source": [
    "#### Model training"
   ]
  },
  {
   "cell_type": "code",
   "execution_count": 7,
   "metadata": {},
   "outputs": [
    {
     "name": "stdout",
     "output_type": "stream",
     "text": [
      "WARNING:tensorflow:From /usr/local/lib/python3.7/site-packages/tensorflow/python/framework/op_def_library.py:263: colocate_with (from tensorflow.python.framework.ops) is deprecated and will be removed in a future version.\n",
      "Instructions for updating:\n",
      "Colocations handled automatically by placer.\n",
      "WARNING:tensorflow:From /usr/local/lib/python3.7/site-packages/keras/backend/tensorflow_backend.py:3445: calling dropout (from tensorflow.python.ops.nn_ops) with keep_prob is deprecated and will be removed in a future version.\n",
      "Instructions for updating:\n",
      "Please use `rate` instead of `keep_prob`. Rate should be set to `rate = 1 - keep_prob`.\n",
      "WARNING:tensorflow:From /usr/local/lib/python3.7/site-packages/tensorflow/python/ops/math_ops.py:3066: to_int32 (from tensorflow.python.ops.math_ops) is deprecated and will be removed in a future version.\n",
      "Instructions for updating:\n",
      "Use tf.cast instead.\n",
      "Epoch 1/10\n",
      "150/150 [==============================] - 0s 2ms/step - loss: 0.6127 - acc: 0.7200\n",
      "Epoch 2/10\n",
      "150/150 [==============================] - 0s 224us/step - loss: 0.5072 - acc: 0.8000\n",
      "Epoch 3/10\n",
      "150/150 [==============================] - 0s 205us/step - loss: 0.4350 - acc: 0.8333\n",
      "Epoch 4/10\n",
      "150/150 [==============================] - 0s 164us/step - loss: 0.3722 - acc: 0.8600\n",
      "Epoch 5/10\n",
      "150/150 [==============================] - 0s 124us/step - loss: 0.3535 - acc: 0.8667\n",
      "Epoch 6/10\n",
      "150/150 [==============================] - 0s 104us/step - loss: 0.3301 - acc: 0.8667\n",
      "Epoch 7/10\n",
      "150/150 [==============================] - 0s 162us/step - loss: 0.3160 - acc: 0.8800\n",
      "Epoch 8/10\n",
      "150/150 [==============================] - 0s 155us/step - loss: 0.3056 - acc: 0.8800\n",
      "Epoch 9/10\n",
      "150/150 [==============================] - 0s 173us/step - loss: 0.2828 - acc: 0.8733\n",
      "Epoch 10/10\n",
      "150/150 [==============================] - 0s 163us/step - loss: 0.2423 - acc: 0.9067\n"
     ]
    }
   ],
   "source": [
    "pscn.fit(X_train, y_train)"
   ]
  },
  {
   "cell_type": "markdown",
   "metadata": {},
   "source": [
    "#### Model Evaluation"
   ]
  },
  {
   "cell_type": "code",
   "execution_count": 8,
   "metadata": {},
   "outputs": [
    {
     "name": "stdout",
     "output_type": "stream",
     "text": [
      "Accuracy:  0.8421052631578947\n"
     ]
    }
   ],
   "source": [
    "pscn.evaluate(X_test, y_test)"
   ]
  },
  {
   "cell_type": "markdown",
   "metadata": {},
   "source": [
    "## AIDS Dataset"
   ]
  },
  {
   "cell_type": "code",
   "execution_count": 9,
   "metadata": {},
   "outputs": [],
   "source": [
    "dataset = data.load_compact_data('AIDS')\n",
    "X, y = zip(*dataset)"
   ]
  },
  {
   "cell_type": "code",
   "execution_count": 10,
   "metadata": {},
   "outputs": [],
   "source": [
    "w = util.compute_average_node_count(X)\n",
    "num_classes = 2\n",
    "num_attr = 4"
   ]
  },
  {
   "cell_type": "code",
   "execution_count": 11,
   "metadata": {},
   "outputs": [],
   "source": [
    "X_train, X_test, y_train, y_test = train_test_split(X, y, test_size=test_size)"
   ]
  },
  {
   "cell_type": "code",
   "execution_count": 12,
   "metadata": {},
   "outputs": [],
   "source": [
    "pscn = PSCN(w, num_attr=num_attr, num_classes=num_classes, attribute_name='node_attributes', epochs=10) "
   ]
  },
  {
   "cell_type": "code",
   "execution_count": 13,
   "metadata": {},
   "outputs": [
    {
     "name": "stdout",
     "output_type": "stream",
     "text": [
      "Epoch 1/10\n",
      "888/888 [==============================] - 0s 451us/step - loss: 0.2777 - acc: 0.9189\n",
      "Epoch 2/10\n",
      "888/888 [==============================] - 0s 109us/step - loss: 0.0283 - acc: 0.9910\n",
      "Epoch 3/10\n",
      "888/888 [==============================] - 0s 98us/step - loss: 0.0105 - acc: 0.9955\n",
      "Epoch 4/10\n",
      "888/888 [==============================] - 0s 107us/step - loss: 0.0104 - acc: 0.9966\n",
      "Epoch 5/10\n",
      "888/888 [==============================] - 0s 114us/step - loss: 0.0175 - acc: 0.9955\n",
      "Epoch 6/10\n",
      "888/888 [==============================] - 0s 109us/step - loss: 0.0120 - acc: 0.9977\n",
      "Epoch 7/10\n",
      "888/888 [==============================] - 0s 108us/step - loss: 0.0096 - acc: 0.9977\n",
      "Epoch 8/10\n",
      "888/888 [==============================] - 0s 105us/step - loss: 0.0302 - acc: 0.9966\n",
      "Epoch 9/10\n",
      "888/888 [==============================] - 0s 112us/step - loss: 0.0155 - acc: 0.9989\n",
      "Epoch 10/10\n",
      "888/888 [==============================] - 0s 110us/step - loss: 0.0086 - acc: 0.9989\n"
     ]
    }
   ],
   "source": [
    "pscn.fit(X_train, y_train)"
   ]
  },
  {
   "cell_type": "code",
   "execution_count": 14,
   "metadata": {},
   "outputs": [
    {
     "name": "stdout",
     "output_type": "stream",
     "text": [
      "Accuracy:  0.9954954954954955\n"
     ]
    }
   ],
   "source": [
    "pscn.evaluate(X_test, y_test)"
   ]
  },
  {
   "cell_type": "markdown",
   "metadata": {},
   "source": [
    "## Fingerprint Dataset"
   ]
  },
  {
   "cell_type": "code",
   "execution_count": 15,
   "metadata": {},
   "outputs": [
    {
     "name": "stdout",
     "output_type": "stream",
     "text": [
      "[Errno 2] No such file or directory: './data/Fingerprint/Fingerprint_node_labels.txt'\n"
     ]
    }
   ],
   "source": [
    "dataset = data.load_compact_data('Fingerprint')\n",
    "X, y = zip(*dataset)"
   ]
  },
  {
   "cell_type": "code",
   "execution_count": 16,
   "metadata": {},
   "outputs": [],
   "source": [
    "w = util.compute_average_node_count(X)\n",
    "num_classes = 15\n",
    "num_attr = 2"
   ]
  },
  {
   "cell_type": "code",
   "execution_count": 36,
   "metadata": {},
   "outputs": [],
   "source": [
    "X_train, X_test, y_train, y_test = train_test_split(X, y, test_size=test_size, random_state=23)"
   ]
  },
  {
   "cell_type": "markdown",
   "metadata": {},
   "source": [
    "#### Convert labels to categorical array"
   ]
  },
  {
   "cell_type": "code",
   "execution_count": 37,
   "metadata": {},
   "outputs": [],
   "source": [
    "y_train = np_utils.to_categorical(y_train, num_classes=num_classes) "
   ]
  },
  {
   "cell_type": "code",
   "execution_count": 38,
   "metadata": {},
   "outputs": [],
   "source": [
    "pscn = PSCN(w, num_attr=num_attr, num_classes=num_classes, attribute_name='node_attributes', epochs=10) "
   ]
  },
  {
   "cell_type": "code",
   "execution_count": 39,
   "metadata": {},
   "outputs": [
    {
     "name": "stdout",
     "output_type": "stream",
     "text": [
      "Epoch 1/10\n",
      "48/48 [==============================] - 1s 11ms/step - loss: 2.6838 - acc: 0.0417\n",
      "Epoch 2/10\n",
      "48/48 [==============================] - 0s 155us/step - loss: 2.4716 - acc: 0.1667\n",
      "Epoch 3/10\n",
      "48/48 [==============================] - 0s 379us/step - loss: 2.1829 - acc: 0.3542\n",
      "Epoch 4/10\n",
      "48/48 [==============================] - 0s 195us/step - loss: 2.0213 - acc: 0.4792\n",
      "Epoch 5/10\n",
      "48/48 [==============================] - 0s 318us/step - loss: 1.8745 - acc: 0.4583\n",
      "Epoch 6/10\n",
      "48/48 [==============================] - 0s 229us/step - loss: 1.7340 - acc: 0.5208\n",
      "Epoch 7/10\n",
      "48/48 [==============================] - 0s 2ms/step - loss: 1.7491 - acc: 0.4375\n",
      "Epoch 8/10\n",
      "48/48 [==============================] - 0s 142us/step - loss: 1.7046 - acc: 0.5000\n",
      "Epoch 9/10\n",
      "48/48 [==============================] - 0s 525us/step - loss: 1.4835 - acc: 0.5625\n",
      "Epoch 10/10\n",
      "48/48 [==============================] - 0s 127us/step - loss: 1.5043 - acc: 0.5208\n"
     ]
    }
   ],
   "source": [
    "pscn.fit(X_train, y_train)"
   ]
  },
  {
   "cell_type": "code",
   "execution_count": 40,
   "metadata": {},
   "outputs": [
    {
     "name": "stdout",
     "output_type": "stream",
     "text": [
      "Accuracy:  0.5833333333333334\n"
     ]
    }
   ],
   "source": [
    "pscn.evaluate(X_test, y_test)"
   ]
  },
  {
   "cell_type": "markdown",
   "metadata": {},
   "source": [
    "## Letter Dataset"
   ]
  },
  {
   "cell_type": "code",
   "execution_count": 22,
   "metadata": {},
   "outputs": [
    {
     "name": "stdout",
     "output_type": "stream",
     "text": [
      "[Errno 2] No such file or directory: './data/Letter-high/Letter-high_node_labels.txt'\n"
     ]
    }
   ],
   "source": [
    "dataset = data.load_compact_data('Letter-high')\n",
    "X, y = zip(*dataset)"
   ]
  },
  {
   "cell_type": "code",
   "execution_count": 23,
   "metadata": {},
   "outputs": [],
   "source": [
    "w = util.compute_average_node_count(X)\n",
    "num_classes = 15\n",
    "num_attr = 2"
   ]
  },
  {
   "cell_type": "code",
   "execution_count": 24,
   "metadata": {},
   "outputs": [],
   "source": [
    "X_train, X_test, y_train, y_test = train_test_split(X, y, test_size=test_size)"
   ]
  },
  {
   "cell_type": "code",
   "execution_count": 25,
   "metadata": {},
   "outputs": [],
   "source": [
    "y_train = np_utils.to_categorical(y_train, num_classes=num_classes) "
   ]
  },
  {
   "cell_type": "code",
   "execution_count": 26,
   "metadata": {},
   "outputs": [],
   "source": [
    "pscn = PSCN(w, num_attr=num_attr, num_classes=num_classes, attribute_name='node_attributes', epochs=10) "
   ]
  },
  {
   "cell_type": "code",
   "execution_count": 27,
   "metadata": {},
   "outputs": [
    {
     "name": "stdout",
     "output_type": "stream",
     "text": [
      "Epoch 1/10\n",
      "48/48 [==============================] - 0s 9ms/step - loss: 2.7417 - acc: 0.0417\n",
      "Epoch 2/10\n",
      "48/48 [==============================] - 0s 268us/step - loss: 2.4803 - acc: 0.1875\n",
      "Epoch 3/10\n",
      "48/48 [==============================] - 0s 347us/step - loss: 2.2733 - acc: 0.4375\n",
      "Epoch 4/10\n",
      "48/48 [==============================] - 0s 227us/step - loss: 2.0882 - acc: 0.3542\n",
      "Epoch 5/10\n",
      "48/48 [==============================] - 0s 267us/step - loss: 1.8417 - acc: 0.5625\n",
      "Epoch 6/10\n",
      "48/48 [==============================] - 0s 259us/step - loss: 1.7520 - acc: 0.5000\n",
      "Epoch 7/10\n",
      "48/48 [==============================] - 0s 271us/step - loss: 1.5912 - acc: 0.5000\n",
      "Epoch 8/10\n",
      "48/48 [==============================] - 0s 361us/step - loss: 1.6562 - acc: 0.5000\n",
      "Epoch 9/10\n",
      "48/48 [==============================] - 0s 351us/step - loss: 1.3466 - acc: 0.5625\n",
      "Epoch 10/10\n",
      "48/48 [==============================] - 0s 286us/step - loss: 1.5236 - acc: 0.5208\n"
     ]
    }
   ],
   "source": [
    "pscn.fit(X_train, y_train)"
   ]
  },
  {
   "cell_type": "code",
   "execution_count": 28,
   "metadata": {},
   "outputs": [
    {
     "name": "stdout",
     "output_type": "stream",
     "text": [
      "Accuracy:  0.4166666666666667\n"
     ]
    }
   ],
   "source": [
    "pscn.evaluate(X_test, y_test)"
   ]
  },
  {
   "cell_type": "markdown",
   "metadata": {},
   "source": [
    "## SYNTHETIC Dataset"
   ]
  },
  {
   "cell_type": "code",
   "execution_count": 42,
   "metadata": {},
   "outputs": [],
   "source": [
    "dataset = data.load_compact_data('SYNTHETIC')\n",
    "X, y = zip(*dataset)"
   ]
  },
  {
   "cell_type": "code",
   "execution_count": 50,
   "metadata": {},
   "outputs": [],
   "source": [
    "w = util.compute_average_node_count(X)\n",
    "num_classes = 2\n",
    "num_attr = 1"
   ]
  },
  {
   "cell_type": "code",
   "execution_count": 51,
   "metadata": {},
   "outputs": [],
   "source": [
    "X_train, X_test, y_train, y_test = train_test_split(X, y, test_size=test_size)"
   ]
  },
  {
   "cell_type": "code",
   "execution_count": 52,
   "metadata": {},
   "outputs": [],
   "source": [
    "pscn = PSCN(w, num_attr=num_attr, num_classes=num_classes, attribute_name='node_attributes', epochs=10) "
   ]
  },
  {
   "cell_type": "code",
   "execution_count": 53,
   "metadata": {},
   "outputs": [
    {
     "name": "stdout",
     "output_type": "stream",
     "text": [
      "Epoch 1/10\n",
      "240/240 [==============================] - 1s 3ms/step - loss: 0.5252 - acc: 0.7500\n",
      "Epoch 2/10\n",
      "240/240 [==============================] - 0s 279us/step - loss: 0.2175 - acc: 0.9333\n",
      "Epoch 3/10\n",
      "240/240 [==============================] - 0s 211us/step - loss: 0.1097 - acc: 0.9708\n",
      "Epoch 4/10\n",
      "240/240 [==============================] - 0s 243us/step - loss: 0.0577 - acc: 0.9875\n",
      "Epoch 5/10\n",
      "240/240 [==============================] - 0s 305us/step - loss: 0.0425 - acc: 0.9958\n",
      "Epoch 6/10\n",
      "240/240 [==============================] - 0s 264us/step - loss: 0.0233 - acc: 1.0000\n",
      "Epoch 7/10\n",
      "240/240 [==============================] - 0s 262us/step - loss: 0.0198 - acc: 1.0000\n",
      "Epoch 8/10\n",
      "240/240 [==============================] - 0s 264us/step - loss: 0.0237 - acc: 0.9958\n",
      "Epoch 9/10\n",
      "240/240 [==============================] - 0s 295us/step - loss: 0.0087 - acc: 1.0000\n",
      "Epoch 10/10\n",
      "240/240 [==============================] - 0s 265us/step - loss: 0.0053 - acc: 1.0000\n"
     ]
    }
   ],
   "source": [
    "pscn.fit(X_train, y_train)"
   ]
  },
  {
   "cell_type": "code",
   "execution_count": 54,
   "metadata": {},
   "outputs": [
    {
     "name": "stdout",
     "output_type": "stream",
     "text": [
      "Accuracy:  0.9833333333333333\n"
     ]
    }
   ],
   "source": [
    "pscn.evaluate(X_test, y_test)"
   ]
  },
  {
   "cell_type": "code",
   "execution_count": null,
   "metadata": {},
   "outputs": [],
   "source": []
  }
 ],
 "metadata": {
  "kernelspec": {
   "display_name": "Python 3",
   "language": "python",
   "name": "python3"
  },
  "language_info": {
   "codemirror_mode": {
    "name": "ipython",
    "version": 3
   },
   "file_extension": ".py",
   "mimetype": "text/x-python",
   "name": "python",
   "nbconvert_exporter": "python",
   "pygments_lexer": "ipython3",
   "version": "3.7.2"
  }
 },
 "nbformat": 4,
 "nbformat_minor": 2
}
